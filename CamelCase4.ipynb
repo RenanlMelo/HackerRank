{
  "nbformat": 4,
  "nbformat_minor": 0,
  "metadata": {
    "colab": {
      "provenance": [],
      "toc_visible": true,
      "authorship_tag": "ABX9TyOvQcSYsjP9QgpCkfVy139a",
      "include_colab_link": true
    },
    "kernelspec": {
      "name": "python3",
      "display_name": "Python 3"
    },
    "language_info": {
      "name": "python"
    }
  },
  "cells": [
    {
      "cell_type": "markdown",
      "metadata": {
        "id": "view-in-github",
        "colab_type": "text"
      },
      "source": [
        "<a href=\"https://colab.research.google.com/github/RenanlMelo/HackerRank/blob/main/hackerRank.ipynb\" target=\"_parent\"><img src=\"https://colab.research.google.com/assets/colab-badge.svg\" alt=\"Open In Colab\"/></a>"
      ]
    },
    {
      "cell_type": "code",
      "execution_count": null,
      "metadata": {
        "colab": {
          "base_uri": "https://localhost:8080/"
        },
        "id": "U0Ocpr_S6saa",
        "outputId": "c328174a-dab9-4704-f4d4-f4ab168093d3"
      },
      "outputs": [
        {
          "output_type": "stream",
          "name": "stdout",
          "text": [
            "C;C;mirror\n",
            "Mirror\n"
          ]
        }
      ],
      "source": [
        "def main():\n",
        "    for _ in range(4):\n",
        "        op, t, s = input().strip().split(\";\")\n",
        "\n",
        "        if op == \"S\":\n",
        "            # Remove parentheses if method\n",
        "            if t == \"M\":\n",
        "                s = s[:-2]\n",
        "            result = split_words(s)\n",
        "\n",
        "        elif op == \"C\":\n",
        "            result = combine_words(s, t)\n",
        "\n",
        "        print(result)\n",
        "\n",
        "\n",
        "def split_words(s: str) -> str:\n",
        "    \"\"\"Convert camel case to words separated by spaces.\"\"\"\n",
        "    words = []\n",
        "    current = \"\"\n",
        "\n",
        "    for ch in s:\n",
        "        if ch.isupper():\n",
        "            words.append(current)\n",
        "            current = ch.lower()\n",
        "        else:\n",
        "            current += ch\n",
        "    words.append(current)\n",
        "\n",
        "    # Remove empty strings and join with single space\n",
        "    return \" \".join(filter(None, words)).strip()\n",
        "\n",
        "\n",
        "def combine_words(s: str, t: str) -> str:\n",
        "    \"\"\"Combine words into camelCase, PascalCase or methodName().\"\"\"\n",
        "    parts = s.split()\n",
        "    if not parts:\n",
        "        return \"\"\n",
        "\n",
        "    if t == \"M\":\n",
        "        # camelCase + ()\n",
        "        return parts[0].lower() + \"\".join(w.capitalize() for w in parts[1:]) + \"()\"\n",
        "    elif t == \"C\":\n",
        "        # PascalCase\n",
        "        return \"\".join(w.capitalize() for w in parts)\n",
        "    elif t == \"V\":\n",
        "        # camelCase\n",
        "        return parts[0].lower() + \"\".join(w.capitalize() for w in parts[1:])\n",
        "    else:\n",
        "        return s\n",
        "\n",
        "\n",
        "if __name__ == \"__main__\":\n",
        "    main()\n"
      ]
    },
    {
      "cell_type": "code",
      "source": [
        "string = \"abcd\"\n",
        "\n",
        "print(string[1::])"
      ],
      "metadata": {
        "colab": {
          "base_uri": "https://localhost:8080/"
        },
        "id": "uC5rDDVuUvrZ",
        "outputId": "41b2b1e5-6d9a-4604-9229-0bbdfa675ab0"
      },
      "execution_count": 24,
      "outputs": [
        {
          "output_type": "stream",
          "name": "stdout",
          "text": [
            "bcd\n"
          ]
        }
      ]
    }
  ]
}
